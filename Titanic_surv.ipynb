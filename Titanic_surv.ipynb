{
 "cells": [
  {
   "cell_type": "markdown",
   "metadata": {},
   "source": [
    "Author: Darshan Sundaram\n"
   ]
  },
  {
   "cell_type": "code",
   "execution_count": 1,
   "metadata": {},
   "outputs": [],
   "source": [
    "import pandas as pd\n",
    "import numpy as np\n",
    "from sklearn.preprocessing import StandardScaler, MinMaxScaler, RobustScaler, Normalizer\n",
    "from sklearn.model_selection import  KFold,RandomizedSearchCV, GridSearchCV\n",
    "from sklearn.metrics import accuracy_score\n",
    "from sklearn.pipeline import make_pipeline, Pipeline\n",
    "from sklearn.model_selection import GridSearchCV\n",
    "from sklearn.cluster import KMeans\n",
    "from sklearn.neighbors import KNeighborsClassifier as knn\n",
    "from sklearn.tree import DecisionTreeClassifier as dc\n",
    "from sklearn.ensemble import RandomForestClassifier\n",
    "from scipy.stats import uniform, randint as sp_randint\n",
    "from sklearn.svm import SVC, NuSVC, LinearSVC\n",
    "import warnings\n",
    "warnings.filterwarnings('ignore')\n",
    "from matplotlib import pyplot as plt\n",
    "%matplotlib inline\n",
    "import math"
   ]
  },
  {
   "cell_type": "markdown",
   "metadata": {},
   "source": [
    "I start off by installing all the required packages. I will be using pandas to wrangle the two data sets. Several built in functions in sklearn will assist me in developing and optimizing the following models. I will cycle through most of the applicable kernels and their parameters to find the optimized parameter set."
   ]
  },
  {
   "cell_type": "markdown",
   "metadata": {},
   "source": [
    "# Groundwork"
   ]
  },
  {
   "cell_type": "markdown",
   "metadata": {},
   "source": [
    "After analyzing the features in the dataset, I start off my OneHotEncoding the multi-class (3 or more) features Pclass, Embarked, Title. I do this using the get_dummies function which essentially splits each multi class (3 or above) features in a column for each class within that feature. This will improve the robustness of my model. I do not modify the other features or perform feature selection as I want to see how they perform together first. Additonally, I will perform feature scaling before I train my model. "
   ]
  },
  {
   "cell_type": "markdown",
   "metadata": {},
   "source": [
    "## 1"
   ]
  },
  {
   "cell_type": "code",
   "execution_count": 12,
   "metadata": {},
   "outputs": [],
   "source": [
    "q3_dataset1 = pd.read_csv('titanic_train.csv')\n",
    "q3_dataset1 = pd.get_dummies(q3_dataset1, columns = [\"Pclass\", \"Embarked\", \"Title\"])\n",
    "q3_dataset2 = pd.read_csv('titanic_val.csv')\n",
    "q3_dataset2 = pd.get_dummies(q3_dataset2, columns = [\"Pclass\", \"Embarked\", \"Title\"])\n",
    "q3_dataset2[\"Title_5\"] = 0 #fixing missing column as val set doesn't have 5 as a title\n",
    "q3_dataset3 = pd.read_csv('titanic_test.csv')\n",
    "q3_dataset3 = pd.get_dummies(q3_dataset3, columns = [\"Pclass\", \"Embarked\", \"Title\"])\n",
    "train_val = q3_dataset1.iloc[:,q3_dataset1.columns != \"Survived\"]\n",
    "train_lab = q3_dataset1.iloc[:,0]\n",
    "\n",
    "val_val = q3_dataset2.iloc[:,q3_dataset2.columns != \"Survived\"]\n",
    "val_lab = q3_dataset2.iloc[:,0]\n",
    "\n",
    "test_val = q3_dataset3\n",
    "\n",
    "\n",
    "\n",
    "comb = pd.concat([q3_dataset1,q3_dataset2])\n",
    "comb_val = comb.iloc[:,comb.columns != \"Survived\"]\n",
    "comb_lab = comb.iloc[:,0]\n"
   ]
  },
  {
   "cell_type": "markdown",
   "metadata": {},
   "source": [
    "### Exploration"
   ]
  },
  {
   "cell_type": "code",
   "execution_count": 13,
   "metadata": {},
   "outputs": [
    {
     "name": "stdout",
     "output_type": "stream",
     "text": [
      "The number of data points in the Training set is, 498\n",
      "The number of data points in the Validation set is, 125\n",
      "The number of data points in the Testing set is, 268\n",
      "There are currently 18 features for each datapoint after OneHotEncoding my dataset, however we intially has 10 features\n"
     ]
    }
   ],
   "source": [
    "print(\"The number of data points in the Training set is,\", q3_dataset1.shape[0])\n",
    "print(\"The number of data points in the Validation set is,\", q3_dataset2.shape[0])\n",
    "print(\"The number of data points in the Testing set is,\", q3_dataset3.shape[0])\n",
    "\n",
    "print(\"There are currently\", train_val.shape[1], \"features for each datapoint after OneHotEncoding my dataset, however we intially has 10 features\")"
   ]
  },
  {
   "cell_type": "code",
   "execution_count": 14,
   "metadata": {},
   "outputs": [
    {
     "name": "stdout",
     "output_type": "stream",
     "text": [
      "The average fare paid from the training sample is,  30.335\n",
      "The average age from the training sample is,  28.984\n"
     ]
    }
   ],
   "source": [
    "print(\"The average fare paid from the training sample is, \",round(q3_dataset1['Fare'].mean(),3))\n",
    "print(\"The average age from the training sample is, \", round(q3_dataset1['Age'].mean(),3))"
   ]
  },
  {
   "cell_type": "markdown",
   "metadata": {},
   "source": [
    "## Model Selection | Decision Tree"
   ]
  },
  {
   "cell_type": "code",
   "execution_count": 15,
   "metadata": {},
   "outputs": [],
   "source": [
    "Decisiontree = dc(max_depth = 1) #I define the function as dc when I imported it and randomly set the max depth as 1"
   ]
  },
  {
   "cell_type": "code",
   "execution_count": 16,
   "metadata": {},
   "outputs": [],
   "source": [
    "accuracy = []\n",
    "\n",
    "for i in range(1,10):\n",
    "    model1 = [(\"Standard\",StandardScaler()),('Decision Tree',dc(max_depth = i))]\n",
    "    model = Pipeline(model1)\n",
    "    model.fit(train_val,train_lab)\n",
    "    accuracy.append(model.score(val_val,val_lab))"
   ]
  },
  {
   "cell_type": "code",
   "execution_count": 17,
   "metadata": {},
   "outputs": [
    {
     "data": {
      "text/plain": [
       "Text(0.5,1,'Accuracy vs Max_depth')"
      ]
     },
     "execution_count": 17,
     "metadata": {},
     "output_type": "execute_result"
    },
    {
     "data": {
      "image/png": "[encoded data removed]",
      "text/plain": [
       "<Figure size 432x288 with 1 Axes>"
      ]
     },
     "metadata": {
      "needs_background": "light"
     },
     "output_type": "display_data"
    }
   ],
   "source": [
    "plt.figure()\n",
    "plt.plot(range(1,10,1),accuracy, label = \"Accuracy\")\n",
    "\n",
    "plt.legend(loc = 'best')\n",
    "plt.xlabel(\"Max-depth\")\n",
    "plt.ylabel(\"Accuracy Score\")\n",
    "plt.title(\"Accuracy vs Max_depth\")"
   ]
  },
  {
   "cell_type": "code",
   "execution_count": 18,
   "metadata": {},
   "outputs": [
    {
     "data": {
      "text/plain": [
       "2"
      ]
     },
     "execution_count": 18,
     "metadata": {},
     "output_type": "execute_result"
    }
   ],
   "source": [
    "accuracy.index(max(accuracy))"
   ]
  },
  {
   "cell_type": "markdown",
   "metadata": {},
   "source": [
    "The optimal maximum depth of the tree is found to indexed at 2 or a max depth of 3. "
   ]
  },
  {
   "cell_type": "markdown",
   "metadata": {},
   "source": [
    "I found the maximum depth to be 3, however that was a raw accuracy over the validation set without cross validation. I only varies max_depth because that enabled me to plot the results. In this step, I will optimize the depth and other parameters using RandomizedSearch. I will get a different answer for maximum depth as I will perform CV on the entire training + validation set. Since it is a new dataset, we most likely will get a new value of max_depth. The results of this optimization will be used to predict on unseen data. "
   ]
  },
  {
   "cell_type": "code",
   "execution_count": 19,
   "metadata": {},
   "outputs": [],
   "source": [
    "param_grid = {\n",
    "    'DC__max_depth': sp_randint(2,70),\n",
    "    'DC__min_samples_leaf': sp_randint(1,20),\n",
    "    'DC__min_samples_split': sp_randint(2,20),\n",
    "    \"DC__criterion\": [\"gini\",\"entropy\"]} #param grid"
   ]
  },
  {
   "cell_type": "code",
   "execution_count": 20,
   "metadata": {},
   "outputs": [
    {
     "name": "stdout",
     "output_type": "stream",
     "text": [
      "Fitting 10 folds for each of 400 candidates, totalling 4000 fits\n"
     ]
    },
    {
     "name": "stderr",
     "output_type": "stream",
     "text": [
      "[Parallel(n_jobs=-1)]: Using backend LokyBackend with 12 concurrent workers.\n",
      "[Parallel(n_jobs=-1)]: Done   8 tasks      | elapsed:   10.0s\n",
      "[Parallel(n_jobs=-1)]: Done 153 tasks      | elapsed:   10.8s\n",
      "[Parallel(n_jobs=-1)]: Done 1113 tasks      | elapsed:   13.4s\n",
      "[Parallel(n_jobs=-1)]: Done 2457 tasks      | elapsed:   17.1s\n",
      "[Parallel(n_jobs=-1)]: Done 4000 out of 4000 | elapsed:   21.5s finished\n"
     ]
    },
    {
     "data": {
      "text/plain": [
       "RandomizedSearchCV(cv=10, error_score='raise-deprecating',\n",
       "          estimator=Pipeline(memory=None,\n",
       "     steps=[('Standard', StandardScaler(copy=True, with_mean=True, with_std=True)), ('DC', DecisionTreeClassifier(class_weight=None, criterion='gini', max_depth=None,\n",
       "            max_features=None, max_leaf_nodes=None,\n",
       "            min_impurity_decrease=0.0, min_impurity_split=None,\n",
       "            min_samples_leaf=1, min_samples_split=2,\n",
       "            min_weight_fraction_leaf=0.0, presort=False, random_state=40,\n",
       "            splitter='best'))]),\n",
       "          fit_params=None, iid='warn', n_iter=400, n_jobs=-1,\n",
       "          param_distributions={'DC__max_depth': <scipy.stats._distn_infrastructure.rv_frozen object at 0x000001F7531475F8>, 'DC__min_samples_leaf': <scipy.stats._distn_infrastructure.rv_frozen object at 0x000001F753154048>, 'DC__min_samples_split': <scipy.stats._distn_infrastructure.rv_frozen object at 0x000001F75369FCC0>, 'DC__criterion': ['gini', 'entropy']},\n",
       "          pre_dispatch='2*n_jobs', random_state=40, refit=True,\n",
       "          return_train_score='warn', scoring='accuracy', verbose=3)"
      ]
     },
     "execution_count": 20,
     "metadata": {},
     "output_type": "execute_result"
    }
   ],
   "source": [
    "model1 = [(\"Standard\",StandardScaler()),('DC',dc(random_state = 40))]\n",
    "model = Pipeline(model1)\n",
    "trial = RandomizedSearchCV(model,param_distributions = param_grid, n_iter = 400, scoring = \"accuracy\", cv = 10,verbose = 3, n_jobs = -1,random_state = 40)\n",
    "trial.fit(comb_val,comb_lab)"
   ]
  },
  {
   "cell_type": "code",
   "execution_count": 21,
   "metadata": {},
   "outputs": [
    {
     "data": {
      "text/plain": [
       "0.8298555377207063"
      ]
     },
     "execution_count": 21,
     "metadata": {},
     "output_type": "execute_result"
    }
   ],
   "source": [
    "trial.best_score_  #10 fold CV accuracy score"
   ]
  },
  {
   "cell_type": "code",
   "execution_count": 22,
   "metadata": {},
   "outputs": [
    {
     "data": {
      "text/plain": [
       "{'DC__criterion': 'entropy',\n",
       " 'DC__max_depth': 9,\n",
       " 'DC__min_samples_leaf': 10,\n",
       " 'DC__min_samples_split': 2}"
      ]
     },
     "execution_count": 22,
     "metadata": {},
     "output_type": "execute_result"
    }
   ],
   "source": [
    "trial.best_params_"
   ]
  },
  {
   "cell_type": "markdown",
   "metadata": {},
   "source": [
    "I will predict now on unseen data. "
   ]
  },
  {
   "cell_type": "code",
   "execution_count": 23,
   "metadata": {},
   "outputs": [],
   "source": [
    "pred = trial.predict(test_val)\n",
    "test_out = pd.DataFrame(pred)\n",
    "xport = test_out.to_csv('F003KDK_dt_prediction..csv', header = False, index = False) #Exporting to .csv\n"
   ]
  },
  {
   "cell_type": "markdown",
   "metadata": {},
   "source": [
    "# Model 2"
   ]
  },
  {
   "cell_type": "code",
   "execution_count": 24,
   "metadata": {},
   "outputs": [],
   "source": [
    "clf = [(\"Standard\",StandardScaler()),(\"RF\",RandomForestClassifier(random_state = 40))] #Feature Scaling and SVM classifier\n",
    "rf = Pipeline(clf)"
   ]
  },
  {
   "cell_type": "code",
   "execution_count": 25,
   "metadata": {},
   "outputs": [],
   "source": [
    "param_grid = {\n",
    "    'RF__max_depth': sp_randint(2,70),\n",
    "    'RF__n_estimators': sp_randint(15,200),\n",
    "    'RF__min_samples_leaf': sp_randint(1,20),\n",
    "    'RF__min_samples_split': sp_randint(2,20),\n",
    "    \"RF__criterion\": [\"gini\",\"entropy\"]} #param grid"
   ]
  },
  {
   "cell_type": "code",
   "execution_count": 26,
   "metadata": {},
   "outputs": [],
   "source": [
    "trial3 = RandomizedSearchCV(rf,param_distributions = param_grid, n_iter = 400, scoring = \"accuracy\", cv = 10,verbose = 3, n_jobs = -1,random_state = 40)"
   ]
  },
  {
   "cell_type": "code",
   "execution_count": 27,
   "metadata": {},
   "outputs": [
    {
     "name": "stdout",
     "output_type": "stream",
     "text": [
      "Fitting 10 folds for each of 400 candidates, totalling 4000 fits\n"
     ]
    },
    {
     "name": "stderr",
     "output_type": "stream",
     "text": [
      "[Parallel(n_jobs=-1)]: Using backend LokyBackend with 12 concurrent workers.\n",
      "[Parallel(n_jobs=-1)]: Done   8 tasks      | elapsed:    0.1s\n",
      "[Parallel(n_jobs=-1)]: Done 184 tasks      | elapsed:    5.0s\n",
      "[Parallel(n_jobs=-1)]: Done 504 tasks      | elapsed:   12.7s\n",
      "[Parallel(n_jobs=-1)]: Done 952 tasks      | elapsed:   22.3s\n",
      "[Parallel(n_jobs=-1)]: Done 1528 tasks      | elapsed:   35.2s\n",
      "[Parallel(n_jobs=-1)]: Done 2232 tasks      | elapsed:   49.2s\n",
      "[Parallel(n_jobs=-1)]: Done 3064 tasks      | elapsed:  1.1min\n",
      "[Parallel(n_jobs=-1)]: Done 4000 out of 4000 | elapsed:  1.4min finished\n"
     ]
    },
    {
     "data": {
      "text/plain": [
       "RandomizedSearchCV(cv=10, error_score='raise-deprecating',\n",
       "          estimator=Pipeline(memory=None,\n",
       "     steps=[('Standard', StandardScaler(copy=True, with_mean=True, with_std=True)), ('RF', RandomForestClassifier(bootstrap=True, class_weight=None, criterion='gini',\n",
       "            max_depth=None, max_features='auto', max_leaf_nodes=None,\n",
       "            min_impurity_decrease=0.0, min_impurity_split=None,\n",
       "    ...rs='warn', n_jobs=None,\n",
       "            oob_score=False, random_state=40, verbose=0, warm_start=False))]),\n",
       "          fit_params=None, iid='warn', n_iter=400, n_jobs=-1,\n",
       "          param_distributions={'RF__max_depth': <scipy.stats._distn_infrastructure.rv_frozen object at 0x000001F754BE6B00>, 'RF__n_estimators': <scipy.stats._distn_infrastructure.rv_frozen object at 0x000001F754BE6978>, 'RF__min_samples_leaf': <scipy.stats._distn_infrastructure.rv_frozen object at 0x000001F754BE64A8>, 'RF__min_samples_split': <scipy.stats._distn_infrastructure.rv_frozen object at 0x000001F754BE66A0>, 'RF__criterion': ['gini', 'entropy']},\n",
       "          pre_dispatch='2*n_jobs', random_state=40, refit=True,\n",
       "          return_train_score='warn', scoring='accuracy', verbose=3)"
      ]
     },
     "execution_count": 27,
     "metadata": {},
     "output_type": "execute_result"
    }
   ],
   "source": [
    "trial3.fit(comb_val,comb_lab) #Train model"
   ]
  },
  {
   "cell_type": "code",
   "execution_count": 28,
   "metadata": {},
   "outputs": [
    {
     "data": {
      "text/plain": [
       "{'RF__criterion': 'gini',\n",
       " 'RF__max_depth': 39,\n",
       " 'RF__min_samples_leaf': 2,\n",
       " 'RF__min_samples_split': 8,\n",
       " 'RF__n_estimators': 50}"
      ]
     },
     "execution_count": 28,
     "metadata": {},
     "output_type": "execute_result"
    }
   ],
   "source": [
    "trial3.best_params_ #best params"
   ]
  },
  {
   "cell_type": "code",
   "execution_count": 29,
   "metadata": {},
   "outputs": [
    {
     "data": {
      "text/plain": [
       "0.8507223113964687"
      ]
     },
     "execution_count": 29,
     "metadata": {},
     "output_type": "execute_result"
    }
   ],
   "source": [
    "trial3.best_score_ #best score"
   ]
  },
  {
   "cell_type": "markdown",
   "metadata": {},
   "source": [
    "The optimum parameters I found were a max depth of 7 and number of trees to be 148, resulting in a 10 fold accuracy of 84.9%. Of course, this optimal parameter is just one of the possibilities. There could be various other combinations that result in slighly higher accuracies or lower ones. "
   ]
  },
  {
   "cell_type": "markdown",
   "metadata": {},
   "source": [
    "The RandomizedsearchCV automatically choose the best parameters at the end of its search."
   ]
  },
  {
   "cell_type": "code",
   "execution_count": 30,
   "metadata": {},
   "outputs": [],
   "source": [
    "pred = trial3.predict(test_val)"
   ]
  },
  {
   "cell_type": "code",
   "execution_count": 31,
   "metadata": {},
   "outputs": [],
   "source": [
    "test_out = pd.DataFrame(pred)\n",
    "xport = test_out.to_csv('F003KDK_rf_prediction..csv', header = False, index = False) #Exporting to .csv\n"
   ]
  },
  {
   "cell_type": "markdown",
   "metadata": {},
   "source": [
    "# Model 3 (SVM)"
   ]
  },
  {
   "cell_type": "markdown",
   "metadata": {},
   "source": [
    "I will perform a GridSearchCV on all 3 kernels, and print out the 10 fold CV accuracy. The highest one will considered the best. "
   ]
  },
  {
   "cell_type": "markdown",
   "metadata": {},
   "source": [
    "### Linear SVM"
   ]
  },
  {
   "cell_type": "code",
   "execution_count": 32,
   "metadata": {
    "scrolled": false
   },
   "outputs": [
    {
     "name": "stderr",
     "output_type": "stream",
     "text": [
      "[Parallel(n_jobs=1)]: Using backend SequentialBackend with 1 concurrent workers.\n"
     ]
    },
    {
     "name": "stdout",
     "output_type": "stream",
     "text": [
      "Fitting 10 folds for each of 200 candidates, totalling 2000 fits\n"
     ]
    },
    {
     "name": "stderr",
     "output_type": "stream",
     "text": [
      "[Parallel(n_jobs=1)]: Done 2000 out of 2000 | elapsed:   47.8s finished\n"
     ]
    },
    {
     "data": {
      "text/plain": [
       "GridSearchCV(cv=10, error_score='raise-deprecating',\n",
       "       estimator=Pipeline(memory=None,\n",
       "     steps=[('Robust', StandardScaler(copy=True, with_mean=True, with_std=True)), ('SVM', LinearSVC(C=1.0, class_weight=None, dual=True, fit_intercept=True,\n",
       "     intercept_scaling=1, loss='squared_hinge', max_iter=1000,\n",
       "     multi_class='ovr', penalty='l2', random_state=40, tol=0.0001,\n",
       "     verbose=0))]),\n",
       "       fit_params=None, iid='warn', n_jobs=None,\n",
       "       param_grid=[{'SVM__C': array([7.81250e-03, 8.67762e-03, ..., 2.30478e+02, 2.56000e+02]), 'SVM__loss': ['hinge', 'squared_hinge']}],\n",
       "       pre_dispatch='2*n_jobs', refit=True, return_train_score='warn',\n",
       "       scoring='accuracy', verbose=1)"
      ]
     },
     "execution_count": 32,
     "metadata": {},
     "output_type": "execute_result"
    }
   ],
   "source": [
    "LSVC = [(\"Robust\",StandardScaler()),('SVM',LinearSVC(random_state = 40))]\n",
    "piped1 = Pipeline(LSVC)\n",
    "param_grid3 = [{ \"SVM__C\":np.logspace(-7, 8, 100,base = 2), \"SVM__loss\":[\"hinge\",\"squared_hinge\"]}]\n",
    "grid3 = GridSearchCV(piped1,param_grid = param_grid3,cv = 10,scoring = \"accuracy\",verbose = 1) #GridSearch and parameter grid\n",
    "grid3.fit(comb_val,comb_lab) "
   ]
  },
  {
   "cell_type": "code",
   "execution_count": 33,
   "metadata": {},
   "outputs": [
    {
     "data": {
      "text/plain": [
       "{'SVM__C': 0.013208182388799642, 'SVM__loss': 'squared_hinge'}"
      ]
     },
     "execution_count": 33,
     "metadata": {},
     "output_type": "execute_result"
    }
   ],
   "source": [
    "grid3.best_params_"
   ]
  },
  {
   "cell_type": "code",
   "execution_count": 34,
   "metadata": {},
   "outputs": [
    {
     "data": {
      "text/plain": [
       "0.8378812199036918"
      ]
     },
     "execution_count": 34,
     "metadata": {},
     "output_type": "execute_result"
    }
   ],
   "source": [
    "grid3.best_score_ "
   ]
  },
  {
   "cell_type": "code",
   "execution_count": 35,
   "metadata": {},
   "outputs": [
    {
     "name": "stdout",
     "output_type": "stream",
     "text": [
      "The 10 Fold CV accuracy of the Linear SVM is,  84.0 %\n"
     ]
    }
   ],
   "source": [
    "print(\"The 10 Fold CV accuracy of the Linear SVM is, \", round(grid3.best_score_ ,2)*100, \"%\")"
   ]
  },
  {
   "cell_type": "markdown",
   "metadata": {},
   "source": [
    "### Polynomial SVM"
   ]
  },
  {
   "cell_type": "code",
   "execution_count": 36,
   "metadata": {},
   "outputs": [
    {
     "name": "stderr",
     "output_type": "stream",
     "text": [
      "[Parallel(n_jobs=-1)]: Using backend LokyBackend with 12 concurrent workers.\n"
     ]
    },
    {
     "name": "stdout",
     "output_type": "stream",
     "text": [
      "Fitting 10 folds for each of 100 candidates, totalling 1000 fits\n"
     ]
    },
    {
     "name": "stderr",
     "output_type": "stream",
     "text": [
      "[Parallel(n_jobs=-1)]: Done   8 tasks      | elapsed:    0.1s\n",
      "[Parallel(n_jobs=-1)]: Done 376 tasks      | elapsed:    2.4s\n",
      "[Parallel(n_jobs=-1)]: Done 876 tasks      | elapsed:  2.9min\n",
      "[Parallel(n_jobs=-1)]: Done 1000 out of 1000 | elapsed: 11.3min finished\n"
     ]
    },
    {
     "data": {
      "text/plain": [
       "GridSearchCV(cv=10, error_score='raise-deprecating',\n",
       "       estimator=Pipeline(memory=None,\n",
       "     steps=[('Robust', RobustScaler(copy=True, quantile_range=(25.0, 75.0), with_centering=True,\n",
       "       with_scaling=True)), ('SVM', SVC(C=1.0, cache_size=200, class_weight=None, coef0=0.0,\n",
       "  decision_function_shape='ovr', degree=3, gamma='auto_deprecated',\n",
       "  kernel='poly', max_iter=-1, probability=False, random_state=40,\n",
       "  shrinking=True, tol=0.001, verbose=False))]),\n",
       "       fit_params=None, iid='warn', n_jobs=-1,\n",
       "       param_grid=[{'SVM__gamma': array([0.01562, 0.03125, 0.0625 , 0.125  , 0.25   , 0.5    , 1.     ,\n",
       "       2.     , 4.     , 8.     ]), 'SVM__C': array([7.81250e-03, 1.96863e-02, 4.96063e-02, 1.25000e-01, 3.14980e-01,\n",
       "       7.93701e-01, 2.00000e+00, 5.03968e+00, 1.26992e+01, 3.20000e+01]), 'SVM__degree': [2]}],\n",
       "       pre_dispatch='2*n_jobs', refit=True, return_train_score='warn',\n",
       "       scoring='accuracy', verbose=3)"
      ]
     },
     "execution_count": 36,
     "metadata": {},
     "output_type": "execute_result"
    }
   ],
   "source": [
    "clfpoly = [(\"Robust\",RobustScaler()),('SVM',SVC(kernel = 'poly',random_state = 40))]  #Feature Scaling and SVM classifier\n",
    "pipedpoly = Pipeline(clfpoly) \n",
    "param_gridpoly = [{ \"SVM__gamma\":np.logspace(-6, 3, 10,base = 2),\"SVM__C\":np.logspace(-7, 5, 10,base = 2), \"SVM__degree\":[2]}]\n",
    "gridpoly = GridSearchCV(pipedpoly,param_grid = param_gridpoly,cv = 10,scoring = \"accuracy\",verbose = 3, n_jobs = -1) #GridSearch and parameter grid\n",
    "gridpoly.fit(comb_val,comb_lab)"
   ]
  },
  {
   "cell_type": "code",
   "execution_count": 37,
   "metadata": {},
   "outputs": [
    {
     "data": {
      "text/plain": [
       "0.8426966292134831"
      ]
     },
     "execution_count": 37,
     "metadata": {},
     "output_type": "execute_result"
    }
   ],
   "source": [
    "gridpoly.best_score_"
   ]
  },
  {
   "cell_type": "code",
   "execution_count": 38,
   "metadata": {},
   "outputs": [
    {
     "data": {
      "text/plain": [
       "{'SVM__C': 0.0078125, 'SVM__degree': 2, 'SVM__gamma': 1.0}"
      ]
     },
     "execution_count": 38,
     "metadata": {},
     "output_type": "execute_result"
    }
   ],
   "source": [
    "gridpoly.best_params_"
   ]
  },
  {
   "cell_type": "code",
   "execution_count": 39,
   "metadata": {},
   "outputs": [
    {
     "name": "stdout",
     "output_type": "stream",
     "text": [
      "The 10 fold CV accuracy of the Polynomial SVM is,  84.0 %\n"
     ]
    }
   ],
   "source": [
    "print(\"The 10 fold CV accuracy of the Polynomial SVM is, \", round(gridpoly.best_score_,2)*100, \"%\")\n"
   ]
  },
  {
   "cell_type": "markdown",
   "metadata": {},
   "source": [
    "### Radial Basis SVM"
   ]
  },
  {
   "cell_type": "code",
   "execution_count": 40,
   "metadata": {},
   "outputs": [
    {
     "name": "stderr",
     "output_type": "stream",
     "text": [
      "[Parallel(n_jobs=1)]: Using backend SequentialBackend with 1 concurrent workers.\n"
     ]
    },
    {
     "name": "stdout",
     "output_type": "stream",
     "text": [
      "Fitting 10 folds for each of 200 candidates, totalling 2000 fits\n"
     ]
    },
    {
     "name": "stderr",
     "output_type": "stream",
     "text": [
      "[Parallel(n_jobs=1)]: Done 2000 out of 2000 | elapsed:   47.5s finished\n"
     ]
    },
    {
     "data": {
      "text/plain": [
       "GridSearchCV(cv=10, error_score='raise-deprecating',\n",
       "       estimator=Pipeline(memory=None,\n",
       "     steps=[('Min', RobustScaler(copy=True, quantile_range=(25.0, 75.0), with_centering=True,\n",
       "       with_scaling=True)), ('SVM', NuSVC(cache_size=200, class_weight=None, coef0=0.0,\n",
       "   decision_function_shape='ovr', degree=3, gamma='auto_deprecated',\n",
       "   kernel='rbf', max_iter=-1, nu=0.5, probability=False, random_state=40,\n",
       "   shrinking=True, tol=0.001, verbose=False))]),\n",
       "       fit_params=None, iid='warn', n_jobs=None,\n",
       "       param_grid=[{'SVM__gamma': array([0.0625 , 0.10716, 0.18372, 0.31498, 0.54003, 0.92587, 1.5874 ,\n",
       "       2.72158, 4.66612, 8.     ]), 'SVM__nu': array([0.01   , 0.03579, 0.06158, 0.08737, 0.11316, 0.13895, 0.16474,\n",
       "       0.19053, 0.21632, 0.24211, 0.26789, 0.29368, 0.31947, 0.34526,\n",
       "       0.37105, 0.39684, 0.42263, 0.44842, 0.47421, 0.5    ]), 'SVM__kernel': ['rbf']}],\n",
       "       pre_dispatch='2*n_jobs', refit=True, return_train_score='warn',\n",
       "       scoring='accuracy', verbose=1)"
      ]
     },
     "execution_count": 40,
     "metadata": {},
     "output_type": "execute_result"
    }
   ],
   "source": [
    "clf2 = [(\"Min\", RobustScaler()),('SVM',NuSVC(random_state=40))] #Feature scaling and SVM classifier\n",
    "piped3 = Pipeline(clf2) #Pipeline classifier\n",
    "param_grid2 = [{ \"SVM__gamma\":np.logspace(-4, 3, 10,base = 2),\"SVM__nu\":np.linspace(0.01,.50,20), \"SVM__kernel\":['rbf',]}] #sequence of 50 numbers from 0 to 50\n",
    "grid2 = GridSearchCV(piped3,param_grid = param_grid2,cv = 10,scoring = \"accuracy\",verbose = 1) #GridSearch and parameter grid\n",
    "grid2.fit(comb_val,comb_lab)"
   ]
  },
  {
   "cell_type": "code",
   "execution_count": 41,
   "metadata": {},
   "outputs": [
    {
     "data": {
      "text/plain": [
       "0.8282504012841091"
      ]
     },
     "execution_count": 41,
     "metadata": {},
     "output_type": "execute_result"
    }
   ],
   "source": [
    "grid2.best_score_"
   ]
  },
  {
   "cell_type": "code",
   "execution_count": 42,
   "metadata": {},
   "outputs": [
    {
     "data": {
      "text/plain": [
       "{'SVM__gamma': 0.0625, 'SVM__kernel': 'rbf', 'SVM__nu': 0.3968421052631579}"
      ]
     },
     "execution_count": 42,
     "metadata": {},
     "output_type": "execute_result"
    }
   ],
   "source": [
    "grid2.best_params_"
   ]
  },
  {
   "cell_type": "markdown",
   "metadata": {},
   "source": [
    "The best 10 Fold CV accuracy is from the polynomial kernel with an accuracy of 84.27%. The RBF kernel gives us an accuracy of 82.8% and the linear kernel of 83.79%"
   ]
  },
  {
   "cell_type": "code",
   "execution_count": 43,
   "metadata": {},
   "outputs": [],
   "source": [
    "#Predict\n",
    "\n",
    "pred = gridpoly.predict(test_val)\n",
    "test_out = pd.DataFrame(pred)\n",
    "xport = test_out.to_csv('F003KDK_svm_prediction..csv', header = False, index = False) #Exporting to .csv\n"
   ]
  }
 ],
 "metadata": {
  "kernelspec": {
   "display_name": "Python 3",
   "language": "python",
   "name": "python3"
  },
  "language_info": {
   "codemirror_mode": {
    "name": "ipython",
    "version": 3
   },
   "file_extension": ".py",
   "mimetype": "text/x-python",
   "name": "python",
   "nbconvert_exporter": "python",
   "pygments_lexer": "ipython3",
   "version": "3.6.7"
  }
 },
 "nbformat": 4,
 "nbformat_minor": 2
}
